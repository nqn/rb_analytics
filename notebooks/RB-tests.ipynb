{
 "cells": [
  {
   "cell_type": "markdown",
   "metadata": {},
   "source": [
    "## Review Requests Notebook\n",
    "\n",
    "The code below is a series of experiments agains the RB REST API.\n",
    "\n",
    "Described [here](https://www.reviewboard.org/docs/manual/2.5/webapi/2.0/resources/review-request-list/)\n",
    "\n",
    "### Imports"
   ]
  },
  {
   "cell_type": "code",
   "execution_count": 1,
   "metadata": {
    "collapsed": true
   },
   "outputs": [],
   "source": [
    "import json\n",
    "import requests\n",
    "import sys\n",
    "\n",
    "# Hack to import our code from the Notebook\n",
    "sys.path.insert(0, '..')\n",
    "from datastore.reviews_db import Reviews"
   ]
  },
  {
   "cell_type": "markdown",
   "metadata": {},
   "source": [
    "### Fetching the list of RRs from a given date\n",
    "\n",
    "The date format must be in `yyyy-mm-dd` format to comply with the API.\n",
    "\n",
    "The `max-results` chunks the response (by default, the max is 25 returned results), while the returned `total_results` gives the total count from the query.\n",
    "\n",
    "In the `links` field of the response, there is also the URL for the `next` chunk of results: we don't use it here, but in the code this would be useful to paginate requests."
   ]
  },
  {
   "cell_type": "code",
   "execution_count": 2,
   "metadata": {
    "collapsed": false
   },
   "outputs": [
    {
     "name": "stdout",
     "output_type": "stream",
     "text": [
      "http://reviews.apache.org/api/review-requests/?&status=pending&max-results=200&last-updated-from=2015-06-23&to-groups=mesos&start=0\n",
      "total_results\n",
      "stat\n",
      "review_requests\n",
      "links\n",
      "None\n",
      "Found 53 pending Review Requests (53 in response)\n",
      "The next chunk can be retrieved from: None\n",
      "\n",
      "[u'status', u'last_updated', u'target_people', u'depends_on', u'description_text_type', u'issue_resolved_count', u'ship_it_count', u'close_description_text_type', u'id', u'description', u'links', u'changenum', u'bugs_closed', u'testing_done_text_type', u'testing_done', u'close_description', u'time_added', u'extra_data', u'public', u'commit_id', u'blocks', u'branch', u'text_type', u'issue_open_count', u'approved', u'url', u'absolute_url', u'target_groups', u'summary', u'issue_dropped_count', u'approval_failure']\n"
     ]
    },
    {
     "name": "stderr",
     "output_type": "stream",
     "text": [
      "/home/marco/bin/env/dev/local/lib/python2.7/site-packages/requests/packages/urllib3/util/ssl_.py:90: InsecurePlatformWarning: A true SSLContext object is not available. This prevents urllib3 from configuring SSL appropriately and may cause certain SSL connections to fail. For more information, see https://urllib3.readthedocs.org/en/latest/security.html#insecureplatformwarning.\n",
      "  InsecurePlatformWarning\n"
     ]
    }
   ],
   "source": [
    "ARGS = {\n",
    "    'last-updated-from': '2015-06-23',\n",
    "    'to-groups': 'mesos',\n",
    "    'status': 'pending',\n",
    "    'max-results': 200,\n",
    "    'start': 0\n",
    "}\n",
    "\n",
    "RB_URL = 'http://reviews.apache.org/api/review-requests/?'\n",
    "\n",
    "def build_url(url, args):\n",
    "    \"\"\" Builds up the URL for the RB request\n",
    "    \n",
    "        @param args: the arguments for the request\n",
    "        @type args: dict\n",
    "    \"\"\"\n",
    "    base = url\n",
    "    for arg_name, value in args.iteritems():\n",
    "        base = \"{base}&{arg}={val}\".format(base=base, arg=arg_name, val=value)\n",
    "    return base\n",
    "\n",
    "rb = build_url(RB_URL, ARGS)\n",
    "print rb\n",
    "reviews = requests.get(rb)\n",
    "\n",
    "def parse_results(results):\n",
    "    count = results.get('total_results', 0)\n",
    "    rrs = results.get('review_requests')\n",
    "    print 'Found {} pending Review Requests ({} in response)'.format(count, len(rrs))\n",
    "    print 'The next chunk can be retrieved from: {}\\n'.format(\n",
    "        results.get('links').get('next', {}).get('href'))\n",
    "    return rrs\n",
    "\n",
    "if reviews.status_code == 200:\n",
    "    result = reviews.json()\n",
    "    for key in result:\n",
    "        print key\n",
    "    print result.get('links').get('next', {}).get('href')\n",
    "    rrs = parse_results(result)\n",
    "    print rrs[0].keys()  "
   ]
  },
  {
   "cell_type": "markdown",
   "metadata": {
    "collapsed": true
   },
   "source": [
    "### Saving to MongoDb\n",
    "\n",
    "This is trivial: as every returned RR is a `dict` this can be directly saved to MongoDB, using the connector implemented in the base class `datastore.base_db.MongoDB`, via the `Reviews` implementation."
   ]
  },
  {
   "cell_type": "code",
   "execution_count": 3,
   "metadata": {
    "collapsed": false
   },
   "outputs": [
    {
     "name": "stderr",
     "output_type": "stream",
     "text": [
      "WARNING:Reviews:Dropping Collection reviews\n"
     ]
    }
   ],
   "source": [
    "mongo_conf = {\n",
    "    'db.host': 'localhost',\n",
    "    'db.port': 27017,\n",
    "    'db.name': 'mesos-reviews'\n",
    "    # Authentication is not used here, we would otherwise set:\n",
    "    # 'db.user': 'foobar',\n",
    "    # 'db.passwd': 'zekret'\n",
    "}\n",
    "\n",
    "# save just a few RRs:\n",
    "revs_db = Reviews(mongo_conf)\n",
    "\n",
    "# clean up first\n",
    "revs_db.drop()\n",
    "\n",
    "for i in xrange(5):\n",
    "    revs_db.save(rrs[i])"
   ]
  },
  {
   "cell_type": "markdown",
   "metadata": {},
   "source": [
    "At this point, the first 5 RRs have been saved to the MongoDb running on the local machine; this can be verified by logging into the shell:\n",
    "```\n",
    "test> show dbs\n",
    "...\n",
    "mesos-reviews  0.078GB\n",
    "\n",
    "test> use mesos-reviews\n",
    "switched to db mesos-reviews\n",
    "\n",
    "mesos-reviews> show collections\n",
    "reviews\n",
    "system.indexes\n",
    "\n",
    "mesos-reviews> db.reviews.find().pretty()\n",
    "\n",
    "{\n",
    "        \"_id\" : 36113,\n",
    "        \"status\" : \"pending\",\n",
    "        \"last_updated\" : \"2015-07-02T00:28:35Z\",\n",
    "        \"issue_resolved_count\" : 0,\n",
    "        \"ship_it_count\" : 0,\n",
    "        \"description\" : \"perf: refactored parse to allow determining an output parsing function based on the runtime version.\",\n",
    "        \"bugs_closed\" : [\n",
    "                \"mesos-2834\"\n",
    "        ],\n",
    "        \"close_description\" : null,\n",
    "        \"reviewers\" : [\n",
    "                \"idownes\",\n",
    "                \"pbrett\",\n",
    "                \"wangcong\"\n",
    "        ],\n",
    "        \"time_added\" : \"2015-07-01T22:44:16Z\",\n",
    "        \"commit_id\" : null,\n",
    "        \"issue_open_count\" : 5,\n",
    "        \"approved\" : false,\n",
    "        \"url\" : \"/r/36113/\",\n",
    "        \"absolute_url\" : \"https://reviews.apache.org/r/36113/\",\n",
    "        \"summary\" : \"perf: refactored parse to allow determining an output parsing function based on the runtime version.\",\n",
    "        \"issue_dropped_count\" : 0,\n",
    "        \"deps\" : {\n",
    "                \"depends_on\" : [\n",
    "                        \"36112\"\n",
    "                ],\n",
    "                \"blocked_by\" : [\n",
    "                        \"36114\"\n",
    "                ]\n",
    "        },\n",
    "        \"submitter\" : \"chzhcn\"\n",
    "}\n",
    "...\n",
    "\n",
    "```\n",
    "\n",
    "We drop the `links` field, as it is too verbose, and just extract the `links.submitter.href` field into a `submitter` field.\n",
    "\n",
    "We currently use the following fields as indexes:\n",
    "```\n",
    "    coll.ensure_index('last_updated')\n",
    "    coll.ensure_index('time_added')\n",
    "    coll.ensure_index('submitter')\n",
    "```\n",
    "Other can easily be added."
   ]
  },
  {
   "cell_type": "markdown",
   "metadata": {},
   "source": [
    "### Retrieving RRs\n",
    "\n",
    "This is fairly straightforward, just use the `get(id)` of the `Reviews` class:"
   ]
  },
  {
   "cell_type": "code",
   "execution_count": 4,
   "metadata": {
    "collapsed": false
   },
   "outputs": [
    {
     "name": "stdout",
     "output_type": "stream",
     "text": [
      "There are 5 RRs in the DB\n",
      "Adding the possibility to 'keep-alive' the connection\n",
      "\n",
      "status                pending                                                     \n",
      "commit_id             None                                                        \n",
      "last_updated          2015-07-02T01:49:01Z                                        \n",
      "url                   /r/36040/                                                   \n",
      "reviewers             [u'anandmazumdar', u'marco', u'vinodkone']                  \n",
      "absolute_url          https://reviews.apache.org/r/36040/                         \n",
      "issue_resolved_count  1                                                           \n",
      "bugs_closed           []                                                          \n",
      "issue_open_count      1                                                           \n",
      "issue_dropped_count   0                                                           \n",
      "dependencies          {u'depends_on': [], u'blocked_by': [u'35934']}              \n",
      "summary               Change Server closing connections for every request         \n",
      "close_description     None                                                        \n",
      "ship_it_count         1                                                           \n",
      "submitter             ijimenez                                                    \n",
      "time_added            2015-06-30T09:06:49Z                                        \n",
      "_id                   36040                                                       \n",
      "approved              0                                                           \n"
     ]
    }
   ],
   "source": [
    "# First get ALL the ids in the collection\n",
    "all_ids = revs_db.get_all_ids()\n",
    "\n",
    "assert(len(all_ids) == 5)\n",
    "print \"There are {} RRs in the DB\".format(len(all_ids))\n",
    "\n",
    "rid = all_ids[2]\n",
    "review = revs_db.get(rid)\n",
    "\n",
    "print \"{}\\n\".format(review.pop('description'))\n",
    "for k in review.keys():\n",
    "    print \"{:20}  {:<60}\".format(k, review[k])"
   ]
  },
  {
   "cell_type": "markdown",
   "metadata": {},
   "source": [
    "### Processing data\n",
    "\n",
    "In the `ReviewFetcher` we process all the above, in a loop to make sure we retrieve all results, then we store data in the DB.\n",
    "\n",
    "*Note: Make sure to edit this notebook and update the date, to limit the amount of data*"
   ]
  },
  {
   "cell_type": "code",
   "execution_count": 8,
   "metadata": {
    "collapsed": false,
    "scrolled": true
   },
   "outputs": [
    {
     "name": "stderr",
     "output_type": "stream",
     "text": [
      "/home/marco/bin/env/dev/local/lib/python2.7/site-packages/requests/packages/urllib3/util/ssl_.py:90: InsecurePlatformWarning: A true SSLContext object is not available. This prevents urllib3 from configuring SSL appropriately and may cause certain SSL connections to fail. For more information, see https://urllib3.readthedocs.org/en/latest/security.html#insecureplatformwarning.\n",
      "  InsecurePlatformWarning\n",
      "/home/marco/bin/env/dev/local/lib/python2.7/site-packages/requests/packages/urllib3/util/ssl_.py:90: InsecurePlatformWarning: A true SSLContext object is not available. This prevents urllib3 from configuring SSL appropriately and may cause certain SSL connections to fail. For more information, see https://urllib3.readthedocs.org/en/latest/security.html#insecureplatformwarning.\n",
      "  InsecurePlatformWarning\n"
     ]
    },
    {
     "name": "stdout",
     "output_type": "stream",
     "text": [
      "We retrieved and saved 76 Reviews\n"
     ]
    }
   ],
   "source": [
    "from rb_etl.fetcher import ReviewFetcher\n",
    "\n",
    "mongo_conf['since'] = '2015-06-15'\n",
    "ff = ReviewFetcher(mongo_conf)\n",
    "\n",
    "all_rrs = ff.fetch_all()\n",
    "ff.store_data()\n",
    "print \"We retrieved and saved {} Reviews\".format(len(all_rrs))\n",
    "\n",
    "# Let's verify it all went to plan:\n",
    "assert(len(all_rrs) == len(revs_db.get_all_ids()))"
   ]
  }
 ],
 "metadata": {
  "kernelspec": {
   "display_name": "Python 2",
   "language": "python",
   "name": "python2"
  },
  "language_info": {
   "codemirror_mode": {
    "name": "ipython",
    "version": 2
   },
   "file_extension": ".py",
   "mimetype": "text/x-python",
   "name": "python",
   "nbconvert_exporter": "python",
   "pygments_lexer": "ipython2",
   "version": "2.7.6"
  }
 },
 "nbformat": 4,
 "nbformat_minor": 0
}
