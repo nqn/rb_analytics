{
 "cells": [
  {
   "cell_type": "markdown",
   "metadata": {},
   "source": [
    "## Review Requests Notebook\n",
    "\n",
    "The code below is a series of experiments agains the RB REST API.\n",
    "\n",
    "The API is documented [here](https://www.reviewboard.org/docs/manual/2.5/webapi/2.0/resources/review-request-list/)\n",
    "\n",
    "### Imports"
   ]
  },
  {
   "cell_type": "code",
   "execution_count": 4,
   "metadata": {
    "collapsed": false
   },
   "outputs": [],
   "source": [
    "from __future__ import print_function\n",
    "          \n",
    "import json\n",
    "import requests\n",
    "import sys\n",
    "\n",
    "# Hack to import our code from the Notebook\n",
    "sys.path.insert(0, '..')\n",
    "\n",
    "from datastore.reviews_db import Reviews\n",
    "from rb_etl.fetcher import ReviewFetcher"
   ]
  },
  {
   "cell_type": "markdown",
   "metadata": {},
   "source": [
    "### Fetching the list of RRs from a given date\n",
    "\n",
    "The date format must be in `yyyy-mm-dd` format to comply with the API.\n",
    "\n",
    "The `max-results` chunks the response (by default, the max is 25 returned results), while the returned `total_results` gives the total count from the query.\n",
    "\n",
    "In the `links` field of the response, there is also the URL for the `next` chunk of results: we don't use it here, but in the code this would be useful to paginate requests.\n",
    "\n",
    "#### Building the code\n",
    "\n",
    "The code in the following section is how we arrived at the `ReviewFetcher` class in the `rb_etl.fetcher` module; an example usage of the actual code is further below."
   ]
  },
  {
   "cell_type": "code",
   "execution_count": 5,
   "metadata": {
    "collapsed": false
   },
   "outputs": [
    {
     "name": "stdout",
     "output_type": "stream",
     "text": [
      "Retrieving RRs from http://reviews.apache.org/api/review-requests/?&status=pending&max-results=20&last-updated-from=2015-06-23&to-groups=mesos&start=0\n",
      "total_results\n",
      "stat\n",
      "review_requests\n",
      "links\n",
      "Found 74 pending Review Requests (20 in response)\n",
      "The next chunk can be retrieved from: https://reviews.apache.org/api/review-requests/?start=20&max-results=20&status=pending&last-updated-from=2015-06-23&to-groups=mesos\n",
      "\n"
     ]
    },
    {
     "name": "stderr",
     "output_type": "stream",
     "text": [
      "/home/marco/bin/env/dev/local/lib/python2.7/site-packages/requests/packages/urllib3/util/ssl_.py:90: InsecurePlatformWarning: A true SSLContext object is not available. This prevents urllib3 from configuring SSL appropriately and may cause certain SSL connections to fail. For more information, see https://urllib3.readthedocs.org/en/latest/security.html#insecureplatformwarning.\n",
      "  InsecurePlatformWarning\n"
     ]
    }
   ],
   "source": [
    "ARGS = {\n",
    "    'last-updated-from': '2015-06-23',\n",
    "    'to-groups': 'mesos',\n",
    "    'status': 'pending',\n",
    "    'max-results': 20,\n",
    "    'start': 0\n",
    "}\n",
    "\n",
    "RB_URL = 'http://reviews.apache.org/api/review-requests/?'\n",
    "\n",
    "def build_url(url, args):\n",
    "    \"\"\" Builds up the URL for the RB request\n",
    "    \n",
    "        @param args: the arguments for the request\n",
    "        @type args: dict\n",
    "    \"\"\"\n",
    "    base = url\n",
    "    for arg_name, value in args.iteritems():\n",
    "        base = \"{base}&{arg}={val}\".format(base=base, arg=arg_name, val=value)\n",
    "    return base\n",
    "\n",
    "rb = build_url(RB_URL, ARGS)\n",
    "print(\"Retrieving RRs from {}\".format(rb))\n",
    "reviews = requests.get(rb)\n",
    "\n",
    "def parse_results(results):\n",
    "    rrs = results.get('review_requests')\n",
    "    return rrs\n",
    "\n",
    "if reviews.status_code == 200:\n",
    "    result = reviews.json()\n",
    "    for key in result:\n",
    "        print(key)\n",
    "    rrs = parse_results(result)\n",
    "    count = result.get('total_results', 0)\n",
    "\n",
    "    print(\"Found {} pending Review Requests ({} in response)\".format(count, len(rrs)))\n",
    "    print(\"The next chunk can be retrieved from: {}\\n\".format(\n",
    "        result.get('links').get('next', {}).get('href')))\n",
    "    "
   ]
  },
  {
   "cell_type": "markdown",
   "metadata": {
    "collapsed": true
   },
   "source": [
    "### Saving to MongoDb\n",
    "\n",
    "This is trivial: as every returned RR is a `dict` this can be directly saved to MongoDB, using the connector implemented in the base class `datastore.base_db.MongoDB`, via the `Reviews` implementation."
   ]
  },
  {
   "cell_type": "code",
   "execution_count": 6,
   "metadata": {
    "collapsed": false
   },
   "outputs": [
    {
     "name": "stderr",
     "output_type": "stream",
     "text": [
      "WARNING:Reviews:Dropping Collection reviews\n"
     ]
    }
   ],
   "source": [
    "mongo_conf = {\n",
    "    'db.host': 'localhost',\n",
    "    'db.port': 27017,\n",
    "    'db.name': 'mesos-reviews'\n",
    "    # Authentication is not used here, we would otherwise set:\n",
    "    # 'db.user': 'foobar',\n",
    "    # 'db.passwd': 'zekret'\n",
    "}\n",
    "\n",
    "# save just a few RRs:\n",
    "revs_db = Reviews(mongo_conf)\n",
    "\n",
    "# clean up first\n",
    "revs_db.drop()\n",
    "\n",
    "for i in xrange(5):\n",
    "    revs_db.save(rrs[i])"
   ]
  },
  {
   "cell_type": "markdown",
   "metadata": {},
   "source": [
    "At this point, the first 5 RRs have been saved to the MongoDb running on the local machine; this can be verified by logging into the shell:\n",
    "```\n",
    "test> show dbs\n",
    "...\n",
    "mesos-reviews  0.078GB\n",
    "...\n",
    "test> use mesos-reviews\n",
    "mesos-reviews> show collections\n",
    "reviews\n",
    "system.indexes\n",
    "\n",
    "mesos-reviews> db.reviews.find().pretty()\n",
    "```\n",
    "\n",
    "We drop the `links` field, as it is too verbose, and just extract the `links.submitter.href` field into a `submitter` field.\n",
    "\n",
    "We currently use the following fields as indexes:\n",
    "```\n",
    "    coll.ensure_index('last_updated')\n",
    "    coll.ensure_index('time_added')\n",
    "    coll.ensure_index('submitter')\n",
    "```\n",
    "Other can easily be added."
   ]
  },
  {
   "cell_type": "markdown",
   "metadata": {},
   "source": [
    "### Retrieving RRs from the Database\n",
    "\n",
    "This is fairly straightforward, just use the `get(id)` of the `Reviews` class.\n",
    "Alternatively, first retrieve **all** the IDs, then just pick the ones of interest."
   ]
  },
  {
   "cell_type": "code",
   "execution_count": 7,
   "metadata": {
    "collapsed": false
   },
   "outputs": [
    {
     "name": "stdout",
     "output_type": "stream",
     "text": [
      "There are 5 RRs in the DB\n",
      "Moved filesystem/linux from review https://reviews.apache.org/r/34135/\n",
      "\n",
      "status                pending                                                     \n",
      "commit_id             None                                                        \n",
      "last_updated          2015-07-12T05:56:05Z                                        \n",
      "url                   /r/36429/                                                   \n",
      "reviewers             [u'jieyu', u'tnachen', u'vinodkone']                        \n",
      "absolute_url          https://reviews.apache.org/r/36429/                         \n",
      "issue_resolved_count  0                                                           \n",
      "bugs_closed           []                                                          \n",
      "issue_open_count      0                                                           \n",
      "issue_dropped_count   0                                                           \n",
      "dependencies          {u'depends_on': [34135], u'blocked_by': []}                 \n",
      "summary               Add filesystem/linux isolator for persistent volumes.       \n",
      "close_description     None                                                        \n",
      "ship_it_count         0                                                           \n",
      "submitter             idownes                                                     \n",
      "time_added            2015-07-12T04:46:23Z                                        \n",
      "_id                   36429                                                       \n",
      "approved              0                                                           \n"
     ]
    }
   ],
   "source": [
    "# First get ALL the ids in the collection\n",
    "all_ids = revs_db.get_all_ids()\n",
    "\n",
    "assert(len(all_ids) == 5)\n",
    "print(\"There are {} RRs in the DB\".format(len(all_ids)))\n",
    "\n",
    "rid = all_ids[2]\n",
    "review = revs_db.get(rid)\n",
    "\n",
    "print(\"{}\\n\".format(review.pop('description')))\n",
    "for k in review.keys():\n",
    "    print(\"{:20}  {:<60}\".format(k, review[k]))"
   ]
  },
  {
   "cell_type": "markdown",
   "metadata": {},
   "source": [
    "## ETL Process\n",
    "\n",
    "### Extracting the data from RB\n",
    "\n",
    "In the `ReviewFetcher` we put all the above together, retrieving the RRs via the API in a loop to retrieve **all** results; we transform the JSON objects by dropping the fields not of interest and retaining only the relevant ones; and then we load data in the DB.\n",
    "\n",
    "*Note: Make sure to edit this notebook and update the date in `mongo_conf['since']`, in order to limit the amount of data fetched from ReviewBoard*"
   ]
  },
  {
   "cell_type": "code",
   "execution_count": 8,
   "metadata": {
    "collapsed": false,
    "scrolled": true
   },
   "outputs": [
    {
     "name": "stderr",
     "output_type": "stream",
     "text": [
      "/home/marco/bin/env/dev/local/lib/python2.7/site-packages/requests/packages/urllib3/util/ssl_.py:90: InsecurePlatformWarning: A true SSLContext object is not available. This prevents urllib3 from configuring SSL appropriately and may cause certain SSL connections to fail. For more information, see https://urllib3.readthedocs.org/en/latest/security.html#insecureplatformwarning.\n",
      "  InsecurePlatformWarning\n",
      "/home/marco/bin/env/dev/local/lib/python2.7/site-packages/requests/packages/urllib3/util/ssl_.py:90: InsecurePlatformWarning: A true SSLContext object is not available. This prevents urllib3 from configuring SSL appropriately and may cause certain SSL connections to fail. For more information, see https://urllib3.readthedocs.org/en/latest/security.html#insecureplatformwarning.\n",
      "  InsecurePlatformWarning\n"
     ]
    },
    {
     "name": "stdout",
     "output_type": "stream",
     "text": [
      "We retrieved and saved 83 Reviews\n"
     ]
    }
   ],
   "source": [
    "mongo_conf['since'] = '2015-06-15'\n",
    "ff = ReviewFetcher(mongo_conf)\n",
    "\n",
    "all_rrs = ff.fetch_all()\n",
    "ff.store_data()\n",
    "print(\"We retrieved and saved {} Reviews\".format(len(all_rrs)))\n",
    "\n",
    "# Let's verify it all went to plan:\n",
    "\n",
    "assert(len(all_rrs) == len(revs_db.get_all_ids()))"
   ]
  },
  {
   "cell_type": "code",
   "execution_count": 10,
   "metadata": {
    "collapsed": false
   },
   "outputs": [
    {
     "name": "stdout",
     "output_type": "stream",
     "text": [
      "{   u'absolute_url': u'https://reviews.apache.org/r/36037/',\n",
      "    u'approval_failure': u'The review request has open issues.',\n",
      "    u'approved': False,\n",
      "    u'blocks': [   {   u'href': u'https://reviews.apache.org/api/review-requests/36099/',\n",
      "                       u'method': u'GET',\n",
      "                       u'title': u'bogus'},\n",
      "                   {   u'href': u'https://reviews.apache.org/api/review-requests/45568/',\n",
      "                       u'method': u'GET',\n",
      "                       u'title': u'bogus-2'}],\n",
      "    u'branch': u'',\n",
      "    u'bugs_closed': [u'MESOS-2860'],\n",
      "    u'changenum': None,\n",
      "    u'close_description': None,\n",
      "    u'close_description_text_type': u'plain',\n",
      "    u'commit_id': None,\n",
      "    u'depends_on': [   {   u'href': u'https://reviews.apache.org/api/review-requests/36073/',\n",
      "                           u'method': u'GET',\n",
      "                           u'title': u'New MethodNotAllowed HTTP response type'}],\n",
      "    u'description': u'Adding a call route with HTTP request header validations',\n",
      "    u'description_text_type': u'markdown',\n",
      "    u'extra_data': {   },\n",
      "    u'id': 36037,\n",
      "    u'issue_dropped_count': 0,\n",
      "    u'issue_open_count': 5,\n",
      "    u'issue_resolved_count': 12,\n",
      "    u'last_updated': u'2015-07-02T02:43:37Z',\n",
      "    u'links': {   u'changes': {   u'href': u'https://reviews.apache.org/api/review-requests/36037/changes/',\n",
      "                                  u'method': u'GET'},\n",
      "                  u'delete': {   u'href': u'https://reviews.apache.org/api/review-requests/36037/',\n",
      "                                 u'method': u'DELETE'},\n",
      "                  u'diff_context': {   u'href': u'https://reviews.apache.org/api/review-requests/36037/diff-context/',\n",
      "                                       u'method': u'GET'},\n",
      "                  u'diffs': {   u'href': u'https://reviews.apache.org/api/review-requests/36037/diffs/',\n",
      "                                u'method': u'GET'},\n",
      "                  u'draft': {   u'href': u'https://reviews.apache.org/api/review-requests/36037/draft/',\n",
      "                                u'method': u'GET'},\n",
      "                  u'file_attachments': {   u'href': u'https://reviews.apache.org/api/review-requests/36037/file-attachments/',\n",
      "                                           u'method': u'GET'},\n",
      "                  u'last_update': {   u'href': u'https://reviews.apache.org/api/review-requests/36037/last-update/',\n",
      "                                      u'method': u'GET'},\n",
      "                  u'repository': {   u'href': u'https://reviews.apache.org/api/repositories/86/',\n",
      "                                     u'method': u'GET',\n",
      "                                     u'title': u'mesos-incubating'},\n",
      "                  u'reviews': {   u'href': u'https://reviews.apache.org/api/review-requests/36037/reviews/',\n",
      "                                  u'method': u'GET'},\n",
      "                  u'screenshots': {   u'href': u'https://reviews.apache.org/api/review-requests/36037/screenshots/',\n",
      "                                      u'method': u'GET'},\n",
      "                  u'self': {   u'href': u'https://reviews.apache.org/api/review-requests/36037/',\n",
      "                               u'method': u'GET'},\n",
      "                  u'submitter': {   u'href': u'https://reviews.apache.org/api/users/ijimenez/',\n",
      "                                    u'method': u'GET',\n",
      "                                    u'title': u'ijimenez'},\n",
      "                  u'update': {   u'href': u'https://reviews.apache.org/api/review-requests/36037/',\n",
      "                                 u'method': u'PUT'}},\n",
      "    u'public': True,\n",
      "    u'ship_it_count': 1,\n",
      "    u'status': u'pending',\n",
      "    u'summary': u'Adding /call endpoint to Master',\n",
      "    u'target_groups': [   {   u'href': u'https://reviews.apache.org/api/groups/mesos/',\n",
      "                              u'method': u'GET',\n",
      "                              u'title': u'mesos'}],\n",
      "    u'target_people': [   {   u'href': u'https://reviews.apache.org/api/users/anandmazumdar/',\n",
      "                              u'method': u'GET',\n",
      "                              u'title': u'anandmazumdar'},\n",
      "                          {   u'href': u'https://reviews.apache.org/api/users/benjaminhindman/',\n",
      "                              u'method': u'GET',\n",
      "                              u'title': u'benjaminhindman'},\n",
      "                          {   u'href': u'https://reviews.apache.org/api/users/bmahler/',\n",
      "                              u'method': u'GET',\n",
      "                              u'title': u'bmahler'},\n",
      "                          {   u'href': u'https://reviews.apache.org/api/users/marco/',\n",
      "                              u'method': u'GET',\n",
      "                              u'title': u'marco'},\n",
      "                          {   u'href': u'https://reviews.apache.org/api/users/vinodkone/',\n",
      "                              u'method': u'GET',\n",
      "                              u'title': u'vinodkone'}],\n",
      "    u'testing_done': u'make check',\n",
      "    u'testing_done_text_type': u'markdown',\n",
      "    u'text_type': None,\n",
      "    u'time_added': u'2015-06-30T08:51:30Z',\n",
      "    u'url': u'/r/36037/'}\n"
     ]
    }
   ],
   "source": [
    "import pprint\n",
    "\n",
    "with open('../tests/data/review.json') as review:\n",
    "    rv = ''.join(review.readlines())\n",
    "\n",
    "rv_d = json.loads(rv)\n",
    "pprint.pprint(rv_d, indent=4, width=40)"
   ]
  }
 ],
 "metadata": {
  "kernelspec": {
   "display_name": "Python 2",
   "language": "python",
   "name": "python2"
  },
  "language_info": {
   "codemirror_mode": {
    "name": "ipython",
    "version": 2
   },
   "file_extension": ".py",
   "mimetype": "text/x-python",
   "name": "python",
   "nbconvert_exporter": "python",
   "pygments_lexer": "ipython2",
   "version": "2.7.6"
  }
 },
 "nbformat": 4,
 "nbformat_minor": 0
}
